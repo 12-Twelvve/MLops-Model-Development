{
 "cells": [
  {
   "cell_type": "code",
   "execution_count": 3,
   "id": "4839c86f",
   "metadata": {},
   "outputs": [],
   "source": [
    "# !pip install wandb "
   ]
  },
  {
   "cell_type": "markdown",
   "id": "97ade085",
   "metadata": {},
   "source": [
    "## EDA"
   ]
  },
  {
   "cell_type": "markdown",
   "id": "60a2bd1e",
   "metadata": {},
   "source": [
    "In this notebook, we downloaded a sample semantic segmentation dataset and use W&B Artifacts and Tables to version and analyse our data"
   ]
  },
  {
   "cell_type": "code",
   "execution_count": 1,
   "id": "f304c499",
   "metadata": {},
   "outputs": [],
   "source": [
    "from fastai.vision.all import * # to download and unzip our datasets\n",
    "import params\n",
    "import wandb"
   ]
  },
  {
   "cell_type": "code",
   "execution_count": 1,
   "id": "722c2a97",
   "metadata": {},
   "outputs": [],
   "source": [
    "# /params.py\n",
    "# WANDB_PROJECT = \"mlops-course-001\"\n",
    "# ENTITY = None # set this to team name if working in a team\n",
    "# BDD_CLASSES = {i:c for i,c in enumerate(['background', 'road', 'traffic light', 'traffic sign', 'person', 'vehicle', 'bicycle'])}\n",
    "# RAW_DATA_AT = 'bdd_simple_1k'\n",
    "# PROCESSED_DATA_AT = 'bdd_simple_1k_split'"
   ]
  },
  {
   "cell_type": "markdown",
   "id": "7c610f5c",
   "metadata": {},
   "source": []
  },
  {
   "cell_type": "code",
   "execution_count": 4,
   "id": "3bd65f36",
   "metadata": {},
   "outputs": [],
   "source": [
    "URL = \"https://storage.googleapis.com/wandb_course/bdd_simple_1k.zip\""
   ]
  },
  {
   "cell_type": "code",
   "execution_count": 5,
   "id": "4bbaf859",
   "metadata": {},
   "outputs": [
    {
     "data": {
      "text/html": [
       "\n",
       "<style>\n",
       "    /* Turns off some styling */\n",
       "    progress {\n",
       "        /* gets rid of default border in Firefox and Opera. */\n",
       "        border: none;\n",
       "        /* Needs to be in here for Safari polyfill so background images work as expected. */\n",
       "        background-size: auto;\n",
       "    }\n",
       "    progress:not([value]), progress:not([value])::-webkit-progress-bar {\n",
       "        background: repeating-linear-gradient(45deg, #7e7e7e, #7e7e7e 10px, #5c5c5c 10px, #5c5c5c 20px);\n",
       "    }\n",
       "    .progress-bar-interrupted, .progress-bar-interrupted::-webkit-progress-bar {\n",
       "        background: #F44336;\n",
       "    }\n",
       "</style>\n"
      ],
      "text/plain": [
       "<IPython.core.display.HTML object>"
      ]
     },
     "metadata": {},
     "output_type": "display_data"
    },
    {
     "data": {
      "text/html": [
       "\n",
       "    <div>\n",
       "      <progress value='122470400' class='' max='122467691' style='width:300px; height:20px; vertical-align: middle;'></progress>\n",
       "      100.00% [122470400/122467691 00:19&lt;00:00]\n",
       "    </div>\n",
       "    "
      ],
      "text/plain": [
       "<IPython.core.display.HTML object>"
      ]
     },
     "metadata": {},
     "output_type": "display_data"
    }
   ],
   "source": [
    "path = Path(untar_data(URL, force_download=True))"
   ]
  },
  {
   "cell_type": "code",
   "execution_count": 6,
   "id": "fe0c9032",
   "metadata": {},
   "outputs": [
    {
     "data": {
      "text/plain": [
       "(#1001) [Path('/home/l3gion/.fastai/data/bdd_simple_1k/labels/7efc19f4-18c1ca3f_mask.png'),Path('/home/l3gion/.fastai/data/bdd_simple_1k/labels/10a3e362-576d9181_mask.png'),Path('/home/l3gion/.fastai/data/bdd_simple_1k/labels/3fb02950-68ad8961_mask.png'),Path('/home/l3gion/.fastai/data/bdd_simple_1k/labels/47406c52-6f9c5dbf_mask.png'),Path('/home/l3gion/.fastai/data/bdd_simple_1k/labels/8e74dd69-c75b794b_mask.png'),Path('/home/l3gion/.fastai/data/bdd_simple_1k/labels/0d207cff-6d499379_mask.png'),Path('/home/l3gion/.fastai/data/bdd_simple_1k/labels/9a888ffa-7b310001_mask.png'),Path('/home/l3gion/.fastai/data/bdd_simple_1k/labels/22f27dc2-4525d946_mask.png'),Path('/home/l3gion/.fastai/data/bdd_simple_1k/labels/1ade61c7-b865e37e_mask.png'),Path('/home/l3gion/.fastai/data/bdd_simple_1k/labels/0512a400-d2fa24da_mask.png')...]"
      ]
     },
     "execution_count": 6,
     "metadata": {},
     "output_type": "execute_result"
    }
   ],
   "source": [
    "(path/\"labels\").ls()"
   ]
  },
  {
   "cell_type": "code",
   "execution_count": 7,
   "id": "cc3d0222",
   "metadata": {},
   "outputs": [],
   "source": [
    "import numpy as np"
   ]
  },
  {
   "cell_type": "code",
   "execution_count": 8,
   "id": "93726d40",
   "metadata": {},
   "outputs": [],
   "source": [
    "def label_func(fname):\n",
    "    return (fname.parent.parent/\"labels\"/f\"{fname.stem}_mask.png\")\n",
    "\n",
    "def get_classes_per_image(mask_data, class_labels):\n",
    "    unique = list(np.unique(mask_data))\n",
    "    result_dict = {}\n",
    "    for _class in class_labels.keys():\n",
    "        result_dict[class_labels[_class]] = int(_class in unique)\n",
    "    return result_dict"
   ]
  },
  {
   "cell_type": "code",
   "execution_count": 9,
   "id": "01fe1a9a",
   "metadata": {},
   "outputs": [],
   "source": [
    "def _create_table(image_files, class_labels):\n",
    "    \"create a table with the dataset \"\n",
    "    labels = [str(class_labels[_lab] for _lab in list(class_labels))]\n",
    "    table = wandb.Table(columns=[\"File_Name\", \"P1\",\"P2\" \"Images\", \"Dataset\"] + labels)\n",
    "    \n",
    "    for i, image_file in progress_bar(enumerate(image_files), total = len(image_files)):\n",
    "        image =Image.open(image_file)\n",
    "        mask_data = np.array(Image.open(label_func(image_file)))\n",
    "        class_in_image = get_classes_per_image(mask_data, class_labels)\n",
    "        table.add_data(\n",
    "            image_file.stem,\n",
    "            image_file.stem.split('-')[0],\n",
    "            image_file.stem.split('-')[1],\n",
    "            wandb.Image(image,\n",
    "                        masks = {\n",
    "                            \"predictions\":{\n",
    "                                \"mask_data\":mask_data,\n",
    "                                 \"class_labels\":class_labels,\n",
    "                            }\n",
    "                        }),\n",
    "            \"bdd1k\", \n",
    "            *[class_in_image[_lab] for _lab in labels]\n",
    "        )\n",
    "    return table\n"
   ]
  },
  {
   "cell_type": "markdown",
   "id": "92f39bf2",
   "metadata": {},
   "source": [
    "to help us process the data and upload it as a Table to W&B"
   ]
  },
  {
   "cell_type": "code",
   "execution_count": null,
   "id": "5157e452",
   "metadata": {},
   "outputs": [],
   "source": []
  },
  {
   "cell_type": "code",
   "execution_count": 17,
   "id": "61406fe6",
   "metadata": {},
   "outputs": [],
   "source": [
    "def label_func(fname):\n",
    "    return (fname.parent.parent/\"labels\")/f\"{fname.stem}_mask.png\"\n",
    "\n",
    "def get_classes_per_image(mask_data, class_labels):\n",
    "    unique = list(np.unique(mask_data))\n",
    "    result_dict = {}\n",
    "    for _class in class_labels.keys():\n",
    "        result_dict[class_labels[_class]] = int(_class in unique)\n",
    "    return result_dict\n",
    "\n",
    "def _create_table(image_files, class_labels):\n",
    "    \"Create a table with the dataset\"\n",
    "    labels = [str(class_labels[_lab]) for _lab in list(class_labels)]\n",
    "    table = wandb.Table(columns=[\"File_Name\", \"Images\", \"Split\"] + labels)\n",
    "    \n",
    "    for i, image_file in progress_bar(enumerate(image_files), total=len(image_files)):\n",
    "        image = Image.open(image_file)\n",
    "        mask_data = np.array(Image.open(label_func(image_file)))\n",
    "        class_in_image = get_classes_per_image(mask_data, class_labels)\n",
    "        table.add_data(\n",
    "            str(image_file.name),\n",
    "            wandb.Image(\n",
    "                    image,\n",
    "                    masks={\n",
    "                        \"predictions\": {\n",
    "                            \"mask_data\": mask_data,\n",
    "                            \"class_labels\": class_labels,\n",
    "                        }\n",
    "                    }\n",
    "            ),\n",
    "            \"None\", # we don't have a dataset split yet\n",
    "            *[class_in_image[_lab] for _lab in labels]\n",
    "        )\n",
    "    \n",
    "    return table\n",
    "     "
   ]
  },
  {
   "cell_type": "markdown",
   "id": "522a2e54",
   "metadata": {},
   "source": [
    "we will start a new W&B  **run** and put everything into a raw Artifacts"
   ]
  },
  {
   "cell_type": "code",
   "execution_count": 11,
   "id": "e0bf5ce6",
   "metadata": {},
   "outputs": [
    {
     "name": "stderr",
     "output_type": "stream",
     "text": [
      "\u001b[34m\u001b[1mwandb\u001b[0m: Currently logged in as: \u001b[33mtwelvve\u001b[0m. Use \u001b[1m`wandb login --relogin`\u001b[0m to force relogin\n"
     ]
    },
    {
     "data": {
      "application/vnd.jupyter.widget-view+json": {
       "model_id": "7c91742c402f40ada166f7092e6ab014",
       "version_major": 2,
       "version_minor": 0
      },
      "text/plain": [
       "VBox(children=(Label(value='Waiting for wandb.init()...\\r'), FloatProgress(value=0.016675117866664854, max=1.0…"
      ]
     },
     "metadata": {},
     "output_type": "display_data"
    },
    {
     "data": {
      "text/html": [
       "wandb version 0.15.12 is available!  To upgrade, please run:\n",
       " $ pip install wandb --upgrade"
      ],
      "text/plain": [
       "<IPython.core.display.HTML object>"
      ]
     },
     "metadata": {},
     "output_type": "display_data"
    },
    {
     "data": {
      "text/html": [
       "Tracking run with wandb version 0.13.9"
      ],
      "text/plain": [
       "<IPython.core.display.HTML object>"
      ]
     },
     "metadata": {},
     "output_type": "display_data"
    },
    {
     "data": {
      "text/html": [
       "Run data is saved locally in <code>/home/l3gion/dataScience/wandb/wandb/run-20231019_083426-8ns1zyrc</code>"
      ],
      "text/plain": [
       "<IPython.core.display.HTML object>"
      ]
     },
     "metadata": {},
     "output_type": "display_data"
    },
    {
     "data": {
      "text/html": [
       "Syncing run <strong><a href=\"https://wandb.ai/twelvve/mlops-course-001/runs/8ns1zyrc\" target=\"_blank\">eager-violet-1</a></strong> to <a href=\"https://wandb.ai/twelvve/mlops-course-001\" target=\"_blank\">Weights & Biases</a> (<a href=\"https://wandb.me/run\" target=\"_blank\">docs</a>)<br/>"
      ],
      "text/plain": [
       "<IPython.core.display.HTML object>"
      ]
     },
     "metadata": {},
     "output_type": "display_data"
    },
    {
     "data": {
      "text/html": [
       " View project at <a href=\"https://wandb.ai/twelvve/mlops-course-001\" target=\"_blank\">https://wandb.ai/twelvve/mlops-course-001</a>"
      ],
      "text/plain": [
       "<IPython.core.display.HTML object>"
      ]
     },
     "metadata": {},
     "output_type": "display_data"
    },
    {
     "data": {
      "text/html": [
       " View run at <a href=\"https://wandb.ai/twelvve/mlops-course-001/runs/8ns1zyrc\" target=\"_blank\">https://wandb.ai/twelvve/mlops-course-001/runs/8ns1zyrc</a>"
      ],
      "text/plain": [
       "<IPython.core.display.HTML object>"
      ]
     },
     "metadata": {},
     "output_type": "display_data"
    }
   ],
   "source": [
    "run = wandb.init(project = params.WANDB_PROJECT, entity = params.ENTITY, job_type = \"upload\")"
   ]
  },
  {
   "cell_type": "code",
   "execution_count": 12,
   "id": "12db7bbe",
   "metadata": {},
   "outputs": [],
   "source": [
    "# CREATE AN ARTIFACT\n",
    "artifact = wandb.Artifact(params.RAW_DATA_AT, type='raw_data' )"
   ]
  },
  {
   "cell_type": "code",
   "execution_count": 13,
   "id": "15fd0d62",
   "metadata": {},
   "outputs": [
    {
     "data": {
      "text/plain": [
       "ArtifactManifestEntry(path='LICENSE.txt', digest='X+6ZFkDOlnKesJCNt20yRg==', ref=None, birth_artifact_id=None, size=1594, extra={}, local_path='/home/l3gion/.local/share/wandb/artifacts/staging/tmphnuu63k7')"
      ]
     },
     "execution_count": 13,
     "metadata": {},
     "output_type": "execute_result"
    }
   ],
   "source": [
    "# ADD FILE TO ARTIFACT\n",
    "artifact.add_file(path/'LICENSE.txt', name=\"LICENSE.txt\")"
   ]
  },
  {
   "cell_type": "markdown",
   "id": "07ed8b62",
   "metadata": {},
   "source": [
    "lets add the images and label masks."
   ]
  },
  {
   "cell_type": "code",
   "execution_count": 14,
   "id": "f6a2142c",
   "metadata": {},
   "outputs": [
    {
     "name": "stderr",
     "output_type": "stream",
     "text": [
      "\u001b[34m\u001b[1mwandb\u001b[0m: Adding directory to artifact (/home/l3gion/.fastai/data/bdd_simple_1k/images)... Done. 1.0s\n",
      "\u001b[34m\u001b[1mwandb\u001b[0m: Adding directory to artifact (/home/l3gion/.fastai/data/bdd_simple_1k/labels)... Done. 0.3s\n"
     ]
    }
   ],
   "source": [
    "# ADD FOLDERS TO ARTIFACT\n",
    "artifact.add_dir(path/'images', name='images')\n",
    "artifact.add_dir(path/'labels', name= 'labels')"
   ]
  },
  {
   "cell_type": "markdown",
   "id": "c80ac27c",
   "metadata": {},
   "source": [
    "lets get the file names of images in our "
   ]
  },
  {
   "cell_type": "code",
   "execution_count": 15,
   "id": "fd3b0559",
   "metadata": {},
   "outputs": [],
   "source": [
    "image_files = get_image_files(path/\"images\", recurse = False)"
   ]
  },
  {
   "cell_type": "code",
   "execution_count": 18,
   "id": "9a0c40a7",
   "metadata": {},
   "outputs": [
    {
     "data": {
      "text/html": [
       "\n",
       "<style>\n",
       "    /* Turns off some styling */\n",
       "    progress {\n",
       "        /* gets rid of default border in Firefox and Opera. */\n",
       "        border: none;\n",
       "        /* Needs to be in here for Safari polyfill so background images work as expected. */\n",
       "        background-size: auto;\n",
       "    }\n",
       "    progress:not([value]), progress:not([value])::-webkit-progress-bar {\n",
       "        background: repeating-linear-gradient(45deg, #7e7e7e, #7e7e7e 10px, #5c5c5c 10px, #5c5c5c 20px);\n",
       "    }\n",
       "    .progress-bar-interrupted, .progress-bar-interrupted::-webkit-progress-bar {\n",
       "        background: #F44336;\n",
       "    }\n",
       "</style>\n"
      ],
      "text/plain": [
       "<IPython.core.display.HTML object>"
      ]
     },
     "metadata": {},
     "output_type": "display_data"
    },
    {
     "data": {
      "text/html": [
       "\n",
       "    <div>\n",
       "      <progress value='1000' class='' max='1000' style='width:300px; height:20px; vertical-align: middle;'></progress>\n",
       "      100.00% [1000/1000 03:04&lt;00:00]\n",
       "    </div>\n",
       "    "
      ],
      "text/plain": [
       "<IPython.core.display.HTML object>"
      ]
     },
     "metadata": {},
     "output_type": "display_data"
    }
   ],
   "source": [
    "table = _create_table(image_files, params.BDD_CLASSES)"
   ]
  },
  {
   "cell_type": "code",
   "execution_count": 19,
   "id": "267d6c33",
   "metadata": {},
   "outputs": [
    {
     "data": {
      "text/plain": [
       "ArtifactManifestEntry(path='eda_table.table.json', digest='vkzAykfgjTCf0C2MTMfdXg==', ref=None, birth_artifact_id=None, size=588824, extra={}, local_path='/home/l3gion/.local/share/wandb/artifacts/staging/tmpylofk11v')"
      ]
     },
     "execution_count": 19,
     "metadata": {},
     "output_type": "execute_result"
    }
   ],
   "source": [
    "# ADD TABLE TO ARTIFACT\n",
    "artifact.add(table, \"eda_table\")"
   ]
  },
  {
   "cell_type": "code",
   "execution_count": 20,
   "id": "3d04c21c",
   "metadata": {},
   "outputs": [
    {
     "data": {
      "text/plain": [
       "<wandb.sdk.wandb_artifacts.Artifact at 0x7f7a0d31f490>"
      ]
     },
     "execution_count": 20,
     "metadata": {},
     "output_type": "execute_result"
    }
   ],
   "source": [
    "# LOG ARTIFACT\n",
    "run.log_artifact(artifact)"
   ]
  },
  {
   "cell_type": "code",
   "execution_count": 21,
   "id": "dc2dae75",
   "metadata": {},
   "outputs": [
    {
     "data": {
      "text/html": [
       "Waiting for W&B process to finish... <strong style=\"color:green\">(success).</strong>"
      ],
      "text/plain": [
       "<IPython.core.display.HTML object>"
      ]
     },
     "metadata": {},
     "output_type": "display_data"
    },
    {
     "data": {
      "text/html": [
       " View run <strong style=\"color:#cdcd00\">eager-violet-1</strong> at: <a href=\"https://wandb.ai/twelvve/mlops-course-001/runs/8ns1zyrc\" target=\"_blank\">https://wandb.ai/twelvve/mlops-course-001/runs/8ns1zyrc</a><br/>Synced 6 W&B file(s), 0 media file(s), 4007 artifact file(s) and 0 other file(s)"
      ],
      "text/plain": [
       "<IPython.core.display.HTML object>"
      ]
     },
     "metadata": {},
     "output_type": "display_data"
    },
    {
     "data": {
      "text/html": [
       "Find logs at: <code>./wandb/run-20231019_083426-8ns1zyrc/logs</code>"
      ],
      "text/plain": [
       "<IPython.core.display.HTML object>"
      ]
     },
     "metadata": {},
     "output_type": "display_data"
    }
   ],
   "source": [
    "# FINISH RUN \n",
    "run.finish()"
   ]
  },
  {
   "cell_type": "code",
   "execution_count": null,
   "id": "ffd7c722",
   "metadata": {},
   "outputs": [],
   "source": []
  }
 ],
 "metadata": {
  "kernelspec": {
   "display_name": "Python 3 (ipykernel)",
   "language": "python",
   "name": "python3"
  },
  "language_info": {
   "codemirror_mode": {
    "name": "ipython",
    "version": 3
   },
   "file_extension": ".py",
   "mimetype": "text/x-python",
   "name": "python",
   "nbconvert_exporter": "python",
   "pygments_lexer": "ipython3",
   "version": "3.9.13"
  }
 },
 "nbformat": 4,
 "nbformat_minor": 5
}
