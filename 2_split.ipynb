{
 "cells": [
  {
   "cell_type": "markdown",
   "id": "92197bdb",
   "metadata": {},
   "source": [
    "## Data Preparation"
   ]
  },
  {
   "cell_type": "markdown",
   "id": "41185885",
   "metadata": {},
   "source": [
    "In this notebook, we will prepare the data to later train our deep learning model. To do so, \n",
    "- we willl start a new W&B  **run** and use our data artifact\n",
    "- split the data and save the splits into a new W&B  Artifacts\n",
    "- join information about the split with our EDA Table"
   ]
  },
  {
   "cell_type": "code",
   "execution_count": 1,
   "id": "dd57097c",
   "metadata": {},
   "outputs": [
    {
     "name": "stderr",
     "output_type": "stream",
     "text": [
      "<frozen importlib._bootstrap>:228: RuntimeWarning: numpy.ufunc size changed, may indicate binary incompatibility. Expected 216 from C header, got 232 from PyObject\n"
     ]
    }
   ],
   "source": [
    "import os, warnings\n",
    "import wandb\n",
    "\n",
    "import pandas as pd\n",
    "from fastai.vision.all import *\n",
    "from sklearn.model_selection import StratifiedGroupKFold\n",
    "import params\n",
    "warnings.filterwarnings('ignore')"
   ]
  },
  {
   "cell_type": "markdown",
   "id": "4bc8a6c9",
   "metadata": {},
   "source": [
    "Use the artifact we prevoiusly saved to W&B (we are storing artifact names and other global parameters in params)"
   ]
  },
  {
   "cell_type": "code",
   "execution_count": 2,
   "id": "8dd2566e",
   "metadata": {},
   "outputs": [
    {
     "name": "stderr",
     "output_type": "stream",
     "text": [
      "\u001b[34m\u001b[1mwandb\u001b[0m: Currently logged in as: \u001b[33mtwelvve\u001b[0m. Use \u001b[1m`wandb login --relogin`\u001b[0m to force relogin\n"
     ]
    },
    {
     "data": {
      "application/vnd.jupyter.widget-view+json": {
       "model_id": "634e0ffa674142ca8f9bce30290f72a8",
       "version_major": 2,
       "version_minor": 0
      },
      "text/plain": [
       "VBox(children=(Label(value='Waiting for wandb.init()...\\r'), FloatProgress(value=0.016689079749994562, max=1.0…"
      ]
     },
     "metadata": {},
     "output_type": "display_data"
    },
    {
     "data": {
      "text/html": [
       "wandb version 0.15.12 is available!  To upgrade, please run:\n",
       " $ pip install wandb --upgrade"
      ],
      "text/plain": [
       "<IPython.core.display.HTML object>"
      ]
     },
     "metadata": {},
     "output_type": "display_data"
    },
    {
     "data": {
      "text/html": [
       "Tracking run with wandb version 0.13.9"
      ],
      "text/plain": [
       "<IPython.core.display.HTML object>"
      ]
     },
     "metadata": {},
     "output_type": "display_data"
    },
    {
     "data": {
      "text/html": [
       "Run data is saved locally in <code>/home/l3gion/dataScience/wandb/wandb/run-20231019_132146-e5ngft4k</code>"
      ],
      "text/plain": [
       "<IPython.core.display.HTML object>"
      ]
     },
     "metadata": {},
     "output_type": "display_data"
    },
    {
     "data": {
      "text/html": [
       "Syncing run <strong><a href=\"https://wandb.ai/twelvve/mlops-course-001/runs/e5ngft4k\" target=\"_blank\">fresh-sun-2</a></strong> to <a href=\"https://wandb.ai/twelvve/mlops-course-001\" target=\"_blank\">Weights & Biases</a> (<a href=\"https://wandb.me/run\" target=\"_blank\">docs</a>)<br/>"
      ],
      "text/plain": [
       "<IPython.core.display.HTML object>"
      ]
     },
     "metadata": {},
     "output_type": "display_data"
    },
    {
     "data": {
      "text/html": [
       " View project at <a href=\"https://wandb.ai/twelvve/mlops-course-001\" target=\"_blank\">https://wandb.ai/twelvve/mlops-course-001</a>"
      ],
      "text/plain": [
       "<IPython.core.display.HTML object>"
      ]
     },
     "metadata": {},
     "output_type": "display_data"
    },
    {
     "data": {
      "text/html": [
       " View run at <a href=\"https://wandb.ai/twelvve/mlops-course-001/runs/e5ngft4k\" target=\"_blank\">https://wandb.ai/twelvve/mlops-course-001/runs/e5ngft4k</a>"
      ],
      "text/plain": [
       "<IPython.core.display.HTML object>"
      ]
     },
     "metadata": {},
     "output_type": "display_data"
    }
   ],
   "source": [
    "run = wandb.init(project=params.WANDB_PROJECT, entity = params.ENTITY, job_type = \"data_split\")"
   ]
  },
  {
   "cell_type": "code",
   "execution_count": 3,
   "id": "01e408ab",
   "metadata": {},
   "outputs": [
    {
     "name": "stderr",
     "output_type": "stream",
     "text": [
      "\u001b[34m\u001b[1mwandb\u001b[0m: Downloading large artifact bdd_simple_1k:latest, 813.75MB. 4007 files... \n",
      "\u001b[34m\u001b[1mwandb\u001b[0m:   4007 of 4007 files downloaded.  \n",
      "Done. 0:0:14.6\n"
     ]
    }
   ],
   "source": [
    "raw_data_at = run.use_artifact(f'{params.RAW_DATA_AT}:latest')\n",
    "path = Path(raw_data_at.download())"
   ]
  },
  {
   "cell_type": "code",
   "execution_count": 4,
   "id": "9df8a42b",
   "metadata": {},
   "outputs": [
    {
     "data": {
      "text/plain": [
       "(#5) [Path('artifacts/bdd_simple_1k:v0/images'),Path('artifacts/bdd_simple_1k:v0/eda_table.table.json'),Path('artifacts/bdd_simple_1k:v0/media'),Path('artifacts/bdd_simple_1k:v0/LICENSE.txt'),Path('artifacts/bdd_simple_1k:v0/labels')]"
      ]
     },
     "execution_count": 4,
     "metadata": {},
     "output_type": "execute_result"
    }
   ],
   "source": [
    "path.ls()"
   ]
  },
  {
   "cell_type": "markdown",
   "id": "9b18bf92",
   "metadata": {},
   "source": [
    "To split data between training , testing and validation , we need file names , groups or some thing like that  and target (here we use our rare class bicycle for stratification). We previously saved these columns to EDA table, so lets retrieve it from the table now. "
   ]
  },
  {
   "cell_type": "code",
   "execution_count": 5,
   "id": "08cadf52",
   "metadata": {},
   "outputs": [
    {
     "name": "stderr",
     "output_type": "stream",
     "text": [
      "\u001b[34m\u001b[1mwandb\u001b[0m: Downloading large artifact bdd_simple_1k:latest, 813.75MB. 4007 files... \n",
      "\u001b[34m\u001b[1mwandb\u001b[0m:   4007 of 4007 files downloaded.  \n",
      "Done. 0:0:0.3\n"
     ]
    }
   ],
   "source": [
    "orig_eda_table = raw_data_at.get(\"eda_table\")"
   ]
  },
  {
   "cell_type": "code",
   "execution_count": 6,
   "id": "e70f367a",
   "metadata": {},
   "outputs": [],
   "source": [
    "fnames = orig_eda_table.get_column(\"File_Name\")\n",
    "groups = [s.split('-')[0] for s in fnames]\n",
    "y = orig_eda_table.get_column(\"bicycle\")"
   ]
  },
  {
   "cell_type": "markdown",
   "id": "bdbe35b5",
   "metadata": {},
   "source": [
    "Now we will split the data into train(80%) , validataion(10%), and test (10%) sets. As we do that, we need to be carefull to :\n",
    "- avoid leakage : for that reason we are grouping data according to video identifier (we want to make sure our model can generalize o new cars or video frames)\n",
    "- handle the label imbalance : for that reason we startify data with our target column \n",
    "\n",
    "We will use sklearn's  **StratifiedgroupKFold** to split the data into 10 folds and assign 1 fold for test, 1 for validation and the rest for training."
   ]
  },
  {
   "cell_type": "code",
   "execution_count": 14,
   "id": "39be97a2",
   "metadata": {},
   "outputs": [],
   "source": [
    "df = pd.DataFrame()\n",
    "df[\"File_Name\"] = fnames\n",
    "df['fold'] = -1"
   ]
  },
  {
   "cell_type": "code",
   "execution_count": 15,
   "id": "fd9dc889",
   "metadata": {},
   "outputs": [],
   "source": [
    "cv = StratifiedGroupKFold(n_splits=10)\n",
    "for i, (train_idxs, test_idxs) in enumerate(cv.split(fnames, y, groups)):\n",
    "    df.loc[test_idxs, ['fold']] = i"
   ]
  },
  {
   "cell_type": "code",
   "execution_count": 16,
   "id": "fd9dd80f",
   "metadata": {},
   "outputs": [
    {
     "data": {
      "text/html": [
       "<div>\n",
       "<style scoped>\n",
       "    .dataframe tbody tr th:only-of-type {\n",
       "        vertical-align: middle;\n",
       "    }\n",
       "\n",
       "    .dataframe tbody tr th {\n",
       "        vertical-align: top;\n",
       "    }\n",
       "\n",
       "    .dataframe thead th {\n",
       "        text-align: right;\n",
       "    }\n",
       "</style>\n",
       "<table border=\"1\" class=\"dataframe\">\n",
       "  <thead>\n",
       "    <tr style=\"text-align: right;\">\n",
       "      <th></th>\n",
       "      <th>File_Name</th>\n",
       "      <th>fold</th>\n",
       "    </tr>\n",
       "  </thead>\n",
       "  <tbody>\n",
       "    <tr>\n",
       "      <th>0</th>\n",
       "      <td>4e79e7cc-5d215a40.jpg</td>\n",
       "      <td>8</td>\n",
       "    </tr>\n",
       "    <tr>\n",
       "      <th>1</th>\n",
       "      <td>75b3cdd3-693bf40c.jpg</td>\n",
       "      <td>9</td>\n",
       "    </tr>\n",
       "    <tr>\n",
       "      <th>2</th>\n",
       "      <td>9b656e8f-c53b0000.jpg</td>\n",
       "      <td>4</td>\n",
       "    </tr>\n",
       "    <tr>\n",
       "      <th>3</th>\n",
       "      <td>8b4c6631-b27e8388.jpg</td>\n",
       "      <td>9</td>\n",
       "    </tr>\n",
       "    <tr>\n",
       "      <th>4</th>\n",
       "      <td>0d207cff-4d92f256.jpg</td>\n",
       "      <td>6</td>\n",
       "    </tr>\n",
       "  </tbody>\n",
       "</table>\n",
       "</div>"
      ],
      "text/plain": [
       "               File_Name  fold\n",
       "0  4e79e7cc-5d215a40.jpg     8\n",
       "1  75b3cdd3-693bf40c.jpg     9\n",
       "2  9b656e8f-c53b0000.jpg     4\n",
       "3  8b4c6631-b27e8388.jpg     9\n",
       "4  0d207cff-4d92f256.jpg     6"
      ]
     },
     "execution_count": 16,
     "metadata": {},
     "output_type": "execute_result"
    }
   ],
   "source": [
    "df.head()"
   ]
  },
  {
   "cell_type": "code",
   "execution_count": 17,
   "id": "8e65c279",
   "metadata": {},
   "outputs": [
    {
     "data": {
      "text/plain": [
       "train    800\n",
       "test     100\n",
       "valid    100\n",
       "Name: Stage, dtype: int64"
      ]
     },
     "execution_count": 17,
     "metadata": {},
     "output_type": "execute_result"
    }
   ],
   "source": [
    "df['Stage'] = 'train'\n",
    "df.loc[df.fold == 0, ['Stage']] = 'test'\n",
    "df.loc[df.fold == 1, ['Stage']] = 'valid'\n",
    "del df['fold']\n",
    "df.Stage.value_counts()"
   ]
  },
  {
   "cell_type": "code",
   "execution_count": 18,
   "id": "5349dbd3",
   "metadata": {},
   "outputs": [],
   "source": [
    "df.to_csv('data_split.csv', index= False)"
   ]
  },
  {
   "cell_type": "markdown",
   "id": "0a7510c3",
   "metadata": {},
   "source": [
    "Now to create a new Artifact and add our data there."
   ]
  },
  {
   "cell_type": "code",
   "execution_count": 19,
   "id": "36cdf2f3",
   "metadata": {},
   "outputs": [],
   "source": [
    "processed_data_at = wandb.Artifact(params.PROCESSED_DATA_AT, type = \"split_data\")"
   ]
  },
  {
   "cell_type": "code",
   "execution_count": 20,
   "id": "9dbf186d",
   "metadata": {},
   "outputs": [
    {
     "name": "stderr",
     "output_type": "stream",
     "text": [
      "\u001b[34m\u001b[1mwandb\u001b[0m: Adding directory to artifact (./artifacts/bdd_simple_1k:v0)... Done. 81.6s\n"
     ]
    }
   ],
   "source": [
    "processed_data_at.add_file(\"data_split.csv\")\n",
    "processed_data_at.add_dir(path)"
   ]
  },
  {
   "cell_type": "markdown",
   "id": "31aedc10",
   "metadata": {},
   "source": [
    "Finally, the split info may be relevant for our analysis - rather than uploading images again , we will save the split info to a new table and join it with EDA table we created prevoiusly."
   ]
  },
  {
   "cell_type": "code",
   "execution_count": 21,
   "id": "39475529",
   "metadata": {},
   "outputs": [],
   "source": [
    "data_split_table = wandb.Table(dataframe= df[[\"File_Name\", \"Stage\"]])"
   ]
  },
  {
   "cell_type": "code",
   "execution_count": 22,
   "id": "5cd4999c",
   "metadata": {},
   "outputs": [],
   "source": [
    "join_table = wandb.JoinedTable(orig_eda_table, data_split_table, \"File_Name\")"
   ]
  },
  {
   "cell_type": "markdown",
   "id": "ef8d99ef",
   "metadata": {},
   "source": [
    "Lets add it to our artifact, log it and finish our **run**"
   ]
  },
  {
   "cell_type": "code",
   "execution_count": 23,
   "id": "8f844946",
   "metadata": {},
   "outputs": [
    {
     "data": {
      "text/plain": [
       "ArtifactManifestEntry(path='eda_table_data_split.joined-table.json', digest='q4/KsAgEIJsld6wUqrUJcQ==', ref=None, birth_artifact_id=None, size=127, extra={}, local_path='/home/l3gion/.local/share/wandb/artifacts/staging/tmpcacmromk')"
      ]
     },
     "execution_count": 23,
     "metadata": {},
     "output_type": "execute_result"
    }
   ],
   "source": [
    "processed_data_at.add(join_table, \"eda_table_data_split\")"
   ]
  },
  {
   "cell_type": "code",
   "execution_count": 24,
   "id": "947b1914",
   "metadata": {},
   "outputs": [
    {
     "data": {
      "text/html": [
       "Waiting for W&B process to finish... <strong style=\"color:green\">(success).</strong>"
      ],
      "text/plain": [
       "<IPython.core.display.HTML object>"
      ]
     },
     "metadata": {},
     "output_type": "display_data"
    },
    {
     "data": {
      "text/html": [
       " View run <strong style=\"color:#cdcd00\">fresh-sun-2</strong> at: <a href=\"https://wandb.ai/twelvve/mlops-course-001/runs/e5ngft4k\" target=\"_blank\">https://wandb.ai/twelvve/mlops-course-001/runs/e5ngft4k</a><br/>Synced 6 W&B file(s), 0 media file(s), 4009 artifact file(s) and 0 other file(s)"
      ],
      "text/plain": [
       "<IPython.core.display.HTML object>"
      ]
     },
     "metadata": {},
     "output_type": "display_data"
    },
    {
     "data": {
      "text/html": [
       "Find logs at: <code>./wandb/run-20231019_132146-e5ngft4k/logs</code>"
      ],
      "text/plain": [
       "<IPython.core.display.HTML object>"
      ]
     },
     "metadata": {},
     "output_type": "display_data"
    }
   ],
   "source": [
    "run.log_artifact(processed_data_at)\n",
    "run.finish()"
   ]
  },
  {
   "cell_type": "code",
   "execution_count": null,
   "id": "1e359872",
   "metadata": {},
   "outputs": [],
   "source": []
  }
 ],
 "metadata": {
  "kernelspec": {
   "display_name": "Python 3 (ipykernel)",
   "language": "python",
   "name": "python3"
  },
  "language_info": {
   "codemirror_mode": {
    "name": "ipython",
    "version": 3
   },
   "file_extension": ".py",
   "mimetype": "text/x-python",
   "name": "python",
   "nbconvert_exporter": "python",
   "pygments_lexer": "ipython3",
   "version": "3.9.13"
  }
 },
 "nbformat": 4,
 "nbformat_minor": 5
}
